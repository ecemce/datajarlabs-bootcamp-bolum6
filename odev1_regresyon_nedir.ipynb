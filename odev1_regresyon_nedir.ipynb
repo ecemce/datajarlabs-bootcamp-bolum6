{
 "cells": [
  {
   "cell_type": "markdown",
   "metadata": {},
   "source": [
    "### Birkaç ülke için elinizde finansal, ekonomik ve sosyal göstergeler hakkında Dünya Bankası verileri olduğunu varsayalım. Bu ülkelerdeki gelişme düzeyini etkileyen faktörleri ölçmek istiyorsunuz. Bu amaçla, milli gelirin nüfusa bölümü olarak tanımlanan kişi başına düşen milli geliri, kalkınma seviyesi için bir vekil olarak kullanmaya karar verdiniz. Kişi başına geliri tahmin etmek için veri kümenizdeki bazı özellikleri kullanmak istiyorsunuz. Bu görev bir sınıflandırma görevi mi yoksa bir regresyon görevi mi? Niçin?"
   ]
  },
  {
   "cell_type": "markdown",
   "metadata": {},
   "source": [
    "Bildiğimiz üzere sürekli değişkenler iki değer arında sınır sınırsız sayıda değer alabilen değişkenlerdir.Kategorik değişkenler ise sınırlı\n",
    "sayıda farklı değerler alabilirler.Kişi başına düşen gelir her ne kadar ülkenin kalkınabileceği belirli şartlar altında sınırlı da olsa\n",
    "bunu kategorik bir değişkenle sınırlayıp kısıtlamamız doğru olmaz.Söz konusu hdef değişkenler nicel değerlere sahip olduğunda bu değişkenler regresyon\n",
    "problemine daha da yakın olmaktadır."
   ]
  },
  {
   "cell_type": "markdown",
   "metadata": {},
   "source": [
    "### Aşağıdaki argümanlardan hangileri yanlıştır ve neden?\n",
    "#### 1-OLS, özel bir doğrusal regresyon modelidir.\n",
    "#### 2-Regresyon modelleri, doğrusal regresyon varsayımlarını karşılamıyorsa kullanışsız hale gelir.\n",
    "#### 3- Estimation ve prediction, doğrusal regresyon modelleri bağlamında aynı şeydir.\n",
    "#### 4-Doğrusal regresyon modeli sadece bir tür regresyon modelidir. Regresyon problemleri, Support Vector Machines veya Random Forests gibi başka modellerle de çözülebilir."
   ]
  },
  {
   "cell_type": "markdown",
   "metadata": {},
   "source": [
    "1- Yanlış.OLS regresyon çözümlemesinde en yaygın olarak kullanılan istatistiki özelliklere sahip yöntemdir.\n",
    "\n",
    "2-Yanlış.Regresyon modelleri yalnızca doğrusal regresyon modeliyle sınırlı değildir.Malesef ki günlük hayatta karşılaştığımız birçok veri doğrusal regresyona tam manasıyla uymamaktadır .Bu da modeli kullanışsız hale getirmez.\n",
    "\n",
    "Lineer regresyonun bazı varsayımları var:\n",
    "\n",
    "Doğrusallık (linearity)\n",
    "\n",
    "Eşvaryanslık (homoscedasticity)\n",
    "\n",
    "Çok değişkenli normallik (multivariate normality)\n",
    "\n",
    "Hataların bağımsızlığı (independence of errors)\n",
    "\n",
    "Çoklu bağlantı yokluğu (multicollinearity)\n",
    "\n",
    "3-Doğru\n",
    "\n",
    "4-Doğru. Destek vektör makineleri sınıflandırma ve regresyon analizi için kullanılan veriyi analiz eden ilişkili öğrenme algoritmalarıyla denetimli öğrenme modelleridir.Aynı şekilde random forest regresyon modeli de birden fazla karar ağacını kullanarak daha uyumlu modeller üreterek isabetli tahminlerde bulunmaya yarayan bir regresyon modelidir. \n"
   ]
  },
  {
   "cell_type": "markdown",
   "metadata": {},
   "source": [
    "### Proje yöneticinizin, şirketinizin sunduğu hangi ücretsiz hizmetlerin, müşterilerinizin daha fazla ücretli hizmet satın almasını sağladığını bulmanızı istediğini varsayalım. Bu görevi bir regresyon problemi olarak formüle edin ve üzerinde çalışmak istediğiniz potansiyel sonucu ve özellikleri yazın."
   ]
  },
  {
   "cell_type": "markdown",
   "metadata": {},
   "source": [
    "Yalnızca kahve ve kendi kupasının satışlarını yapmakta olduğunu varsaydığımız Nescafe markasını ele alalım.Marka kahve ve kupaları raflarda\n",
    "ayrı ayrı satmaya çalıştığı zaman elde edilen denklem şöyledir:\n",
    "\n",
    "y:elde edilen gelir\n",
    "\n",
    "x:nescafe kupa satış miktarını temsil eder\n",
    "\n",
    "z:nescafe kahve satış miktarını temsil eder\n",
    "\n",
    "β:nescafe kupa birim fiyatı \n",
    "\n",
    "θ:nescafe kahve birim fiyatı\n",
    "    \n",
    "y=α+βx+θz \n",
    "    \n",
    "Fakat marka kahve ve kupayı birlikte paketleyip (kahve alanlara kupanın hediye edildiği durumu) raflara koyduğu zaman yeni denklemimiz şu şekilde olacaktır:\n",
    "    \n",
    "x=z olacağından yeni denklemimiz y=α+x(β+θ)  yazılabilir."
   ]
  },
  {
   "cell_type": "code",
   "execution_count": null,
   "metadata": {},
   "outputs": [],
   "source": []
  }
 ],
 "metadata": {
  "kernelspec": {
   "display_name": "Python 3",
   "language": "python",
   "name": "python3"
  },
  "language_info": {
   "codemirror_mode": {
    "name": "ipython",
    "version": 3
   },
   "file_extension": ".py",
   "mimetype": "text/x-python",
   "name": "python",
   "nbconvert_exporter": "python",
   "pygments_lexer": "ipython3",
   "version": "3.7.1"
  }
 },
 "nbformat": 4,
 "nbformat_minor": 2
}
